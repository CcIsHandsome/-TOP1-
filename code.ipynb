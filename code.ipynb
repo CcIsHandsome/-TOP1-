{
 "cells": [
  {
   "cell_type": "code",
   "execution_count": 1,
   "metadata": {
    "ExecuteTime": {
     "end_time": "2019-12-08T05:23:52.832031Z",
     "start_time": "2019-12-08T05:23:51.348696Z"
    }
   },
   "outputs": [],
   "source": [
    "import os, re, json, gc, itertools\n",
    "import time\n",
    "from datetime import datetime\n",
    "\n",
    "import pandas as pd\n",
    "import numpy as np\n",
    "from sklearn.preprocessing import StandardScaler\n",
    "\n",
    "from sklearn import metrics\n",
    "from sklearn.model_selection import train_test_split, KFold, StratifiedKFold\n",
    "\n",
    "import joblib\n",
    "import xgboost as xgb\n",
    "import lightgbm as lgb\n",
    "\n",
    "\n",
    "from sklearn.preprocessing import LabelEncoder\n",
    "from sklearn.metrics import log_loss, accuracy_score\n"
   ]
  },
  {
   "cell_type": "markdown",
   "metadata": {},
   "source": [
    "# preprocessing"
   ]
  },
  {
   "cell_type": "code",
   "execution_count": 2,
   "metadata": {
    "ExecuteTime": {
     "end_time": "2019-12-08T05:23:52.913049Z",
     "start_time": "2019-12-08T05:23:52.833031Z"
    }
   },
   "outputs": [],
   "source": [
    "# load data\n",
    "train = pd.read_csv('data/second_round_training_data.csv')\n",
    "test = pd.read_csv('data/second_round_testing_data.csv')"
   ]
  },
  {
   "cell_type": "code",
   "execution_count": 3,
   "metadata": {
    "ExecuteTime": {
     "end_time": "2019-12-08T05:23:52.918050Z",
     "start_time": "2019-12-08T05:23:52.915050Z"
    }
   },
   "outputs": [],
   "source": [
    "# train 分离 target\n",
    "target = train.pop('Quality_label')"
   ]
  },
  {
   "cell_type": "code",
   "execution_count": 4,
   "metadata": {
    "ExecuteTime": {
     "end_time": "2019-12-08T05:23:52.926052Z",
     "start_time": "2019-12-08T05:23:52.920050Z"
    }
   },
   "outputs": [],
   "source": [
    "# target 编码\n",
    "target = (target.astype(\"category\")\n",
    "          .cat.set_categories([\"Fail\", \"Pass\", \"Good\", \"Excellent\"])\n",
    "          .cat.codes)\n",
    "target = target.rename('target')"
   ]
  },
  {
   "cell_type": "code",
   "execution_count": 5,
   "metadata": {
    "ExecuteTime": {
     "end_time": "2019-12-08T05:23:52.933058Z",
     "start_time": "2019-12-08T05:23:52.927052Z"
    }
   },
   "outputs": [],
   "source": [
    "# train 分离 parameter 和 attribute\n",
    "col_attr=[f'Attribute{x}' for x in range(1,11)]\n",
    "attr = train[col_attr]\n",
    "train = train.drop(columns=col_attr)"
   ]
  },
  {
   "cell_type": "code",
   "execution_count": 6,
   "metadata": {
    "ExecuteTime": {
     "end_time": "2019-12-08T05:23:52.942057Z",
     "start_time": "2019-12-08T05:23:52.934055Z"
    }
   },
   "outputs": [],
   "source": [
    "# test 分离 group\n",
    "group = test.pop('Group')\n",
    "group = group.rename('group')"
   ]
  },
  {
   "cell_type": "code",
   "execution_count": 7,
   "metadata": {
    "ExecuteTime": {
     "end_time": "2019-12-08T05:23:52.947060Z",
     "start_time": "2019-12-08T05:23:52.943057Z"
    }
   },
   "outputs": [],
   "source": [
    "# test 调整参数顺序，与 train 保持一致\n",
    "col_test = [f\"Parameter{x}\" for x in range(1, 11)]\n",
    "test = test[col_test]"
   ]
  },
  {
   "cell_type": "code",
   "execution_count": 8,
   "metadata": {
    "ExecuteTime": {
     "end_time": "2019-12-08T05:23:52.954061Z",
     "start_time": "2019-12-08T05:23:52.950057Z"
    }
   },
   "outputs": [],
   "source": [
    "# 简化列名\n",
    "colnames = [f'p{i}' for i in range(1,11)]\n",
    "train.columns = colnames\n",
    "test.columns = colnames\n",
    "colnames = [f'a{i}' for i in range(1,11)]\n",
    "attr.columns = colnames"
   ]
  },
  {
   "cell_type": "markdown",
   "metadata": {},
   "source": [
    "# FE"
   ]
  },
  {
   "cell_type": "code",
   "execution_count": 9,
   "metadata": {
    "ExecuteTime": {
     "end_time": "2019-12-08T05:23:52.979065Z",
     "start_time": "2019-12-08T05:23:52.956060Z"
    }
   },
   "outputs": [],
   "source": [
    "# rounding\n",
    "round_fmt = {1:11,2:11,3:11,4:11,\n",
    "             5:8,6:8,7:8,8:8,9:8,10:8}\n",
    "for i,r in round_fmt.items():\n",
    "    train[f'p{i}']=train[f'p{i}'].round(r)\n",
    "    test[f'p{i}']=test[f'p{i}'].round(r)"
   ]
  },
  {
   "cell_type": "code",
   "execution_count": 10,
   "metadata": {
    "ExecuteTime": {
     "end_time": "2019-12-08T05:23:52.990068Z",
     "start_time": "2019-12-08T05:23:52.980065Z"
    }
   },
   "outputs": [],
   "source": [
    "# transform log2\n",
    "# 对数转换和归一化后存在负数，影响加减乘除的结果\n",
    "# 需要测试对数转换前的效果\n",
    "train = train.apply(np.log2)\n",
    "attr = attr.apply(np.log2)\n",
    "test = test.apply(np.log2)"
   ]
  },
  {
   "cell_type": "code",
   "execution_count": 11,
   "metadata": {
    "ExecuteTime": {
     "end_time": "2019-12-08T05:23:52.997068Z",
     "start_time": "2019-12-08T05:23:52.991068Z"
    }
   },
   "outputs": [],
   "source": [
    "# 保留 P5-P10\n",
    "train = train.drop(columns=[f'p{i}' for i in range(1,5)])\n",
    "test = test.drop(columns=[f'p{i}' for i in range(1,5)])"
   ]
  },
  {
   "cell_type": "code",
   "execution_count": 12,
   "metadata": {
    "ExecuteTime": {
     "end_time": "2019-12-08T05:23:53.016072Z",
     "start_time": "2019-12-08T05:23:52.999068Z"
    }
   },
   "outputs": [
    {
     "name": "stdout",
     "output_type": "stream",
     "text": [
      "(12934, 6) (6000, 6)\n"
     ]
    },
    {
     "name": "stderr",
     "output_type": "stream",
     "text": [
      "d:\\software\\python3.6\\lib\\site-packages\\ipykernel_launcher.py:6: SettingWithCopyWarning: \n",
      "A value is trying to be set on a copy of a slice from a DataFrame.\n",
      "Try using .loc[row_indexer,col_indexer] = value instead\n",
      "\n",
      "See the caveats in the documentation: http://pandas.pydata.org/pandas-docs/stable/user_guide/indexing.html#returning-a-view-versus-a-copy\n",
      "  \n"
     ]
    }
   ],
   "source": [
    "print(train.shape,test.shape)\n",
    "test['p9_isnull']=test['p9'].isna()\n",
    "test_na=test[test['p9_isnull']==False]\n",
    "lbl=LabelEncoder()\n",
    "lbl.fit(list(test_na['p9'])+list(train['p9']))\n",
    "test_na['p9']=lbl.transform(test_na['p9'])\n",
    "train['p9']=lbl.transform(train['p9'])\n",
    "test.loc[test['p9_isnull']==False,'p9']=test_na\n",
    "del test_na"
   ]
  },
  {
   "cell_type": "markdown",
   "metadata": {},
   "source": [
    "# predict A4-A6 and P9"
   ]
  },
  {
   "cell_type": "markdown",
   "metadata": {},
   "source": [
    "## P9"
   ]
  },
  {
   "cell_type": "code",
   "execution_count": 13,
   "metadata": {
    "ExecuteTime": {
     "end_time": "2019-12-08T05:23:53.032076Z",
     "start_time": "2019-12-08T05:23:53.017072Z"
    }
   },
   "outputs": [
    {
     "name": "stderr",
     "output_type": "stream",
     "text": [
      "d:\\software\\python3.6\\lib\\site-packages\\ipykernel_launcher.py:5: SettingWithCopyWarning: \n",
      "A value is trying to be set on a copy of a slice from a DataFrame.\n",
      "Try using .loc[row_indexer,col_indexer] = value instead\n",
      "\n",
      "See the caveats in the documentation: http://pandas.pydata.org/pandas-docs/stable/user_guide/indexing.html#returning-a-view-versus-a-copy\n",
      "  \"\"\"\n"
     ]
    }
   ],
   "source": [
    "test['p9_isnull']=test['p9'].isna()\n",
    "test_not_na=test[test['p9_isnull']==False]\n",
    "lbl=LabelEncoder()\n",
    "lbl.fit(list(test_not_na['p9'])+list(train['p9']))\n",
    "test_not_na['p9']=lbl.transform(test_not_na['p9'])\n",
    "train['p9']=lbl.transform(train['p9'])\n",
    "test.loc[test['p9_isnull']==False,'p9']=test_not_na\n",
    "del test_not_na"
   ]
  },
  {
   "cell_type": "code",
   "execution_count": 14,
   "metadata": {
    "ExecuteTime": {
     "end_time": "2019-12-08T05:23:53.037078Z",
     "start_time": "2019-12-08T05:23:53.033076Z"
    }
   },
   "outputs": [],
   "source": [
    "parameter='p9'"
   ]
  },
  {
   "cell_type": "code",
   "execution_count": 15,
   "metadata": {
    "ExecuteTime": {
     "end_time": "2019-12-08T05:23:53.045079Z",
     "start_time": "2019-12-08T05:23:53.039078Z"
    }
   },
   "outputs": [],
   "source": [
    "p9=train['p9']\n",
    "train=train.drop(columns='p9')\n",
    "df=train.join(p9)"
   ]
  },
  {
   "cell_type": "code",
   "execution_count": 16,
   "metadata": {
    "ExecuteTime": {
     "end_time": "2019-12-08T05:23:53.054082Z",
     "start_time": "2019-12-08T05:23:53.047082Z"
    }
   },
   "outputs": [],
   "source": [
    "test_not_na=test[test['p9_isnull']==True]"
   ]
  },
  {
   "cell_type": "code",
   "execution_count": 17,
   "metadata": {
    "ExecuteTime": {
     "end_time": "2019-12-08T05:23:53.065084Z",
     "start_time": "2019-12-08T05:23:53.055082Z"
    }
   },
   "outputs": [],
   "source": [
    "test_not_na=test_not_na.drop(columns=['p9','p9_isnull'])"
   ]
  },
  {
   "cell_type": "markdown",
   "metadata": {
    "ExecuteTime": {
     "end_time": "2019-11-28T13:49:37.244787Z",
     "start_time": "2019-11-28T13:49:36.994732Z"
    }
   },
   "source": [
    "### LGB"
   ]
  },
  {
   "cell_type": "code",
   "execution_count": 18,
   "metadata": {
    "ExecuteTime": {
     "end_time": "2019-12-08T05:23:53.074086Z",
     "start_time": "2019-12-08T05:23:53.066084Z"
    }
   },
   "outputs": [],
   "source": [
    "best_hp={'boosting_type': 'gbdt',\n",
    " 'num_leaves': 111,\n",
    " 'max_depth': -1,\n",
    " 'learning_rate': 0.1,\n",
    " 'n_estimators': 639,\n",
    " 'subsample_for_bin': 200000,\n",
    " 'objective': 'multiclass',\n",
    " 'min_split_gain': 0,\n",
    " 'min_child_weight': 0.001,\n",
    " 'min_child_samples': 5,\n",
    " 'subsample': 1.0,\n",
    " 'subsample_freq': 0,\n",
    " 'colsample_bytree': 1,\n",
    " 'reg_alpha': 0.20174465129035402,\n",
    " 'reg_lambda': 0.18200878389736302,\n",
    " 'n_jobs': -1,\n",
    " 'silent': True,\n",
    " 'importance_type': 'split',\n",
    " 'num_class': 17}"
   ]
  },
  {
   "cell_type": "code",
   "execution_count": 19,
   "metadata": {
    "ExecuteTime": {
     "end_time": "2019-12-08T05:23:58.180245Z",
     "start_time": "2019-12-08T05:23:53.075086Z"
    }
   },
   "outputs": [
    {
     "data": {
      "text/plain": [
       "LGBMClassifier(boosting_type='gbdt', class_weight=None, colsample_bytree=1,\n",
       "               importance_type='split', learning_rate=0.1, max_depth=-1,\n",
       "               min_child_samples=5, min_child_weight=0.001, min_split_gain=0,\n",
       "               n_estimators=639, n_jobs=-1, num_class=17, num_leaves=111,\n",
       "               objective='multiclass', random_state=None,\n",
       "               reg_alpha=0.20174465129035402, reg_lambda=0.18200878389736302,\n",
       "               silent=True, subsample=1.0, subsample_for_bin=200000,\n",
       "               subsample_freq=0)"
      ]
     },
     "execution_count": 19,
     "metadata": {},
     "output_type": "execute_result"
    }
   ],
   "source": [
    "m = lgb.LGBMClassifier().set_params(**best_hp)\n",
    "m.fit(train,p9)"
   ]
  },
  {
   "cell_type": "code",
   "execution_count": 20,
   "metadata": {
    "ExecuteTime": {
     "end_time": "2019-12-08T05:23:58.583336Z",
     "start_time": "2019-12-08T05:23:58.181245Z"
    }
   },
   "outputs": [],
   "source": [
    "res=m.predict(test_not_na)"
   ]
  },
  {
   "cell_type": "code",
   "execution_count": 21,
   "metadata": {
    "ExecuteTime": {
     "end_time": "2019-12-08T05:23:58.591338Z",
     "start_time": "2019-12-08T05:23:58.584336Z"
    }
   },
   "outputs": [],
   "source": [
    "test.loc[test['p9_isnull']==True,'p9']=res"
   ]
  },
  {
   "cell_type": "code",
   "execution_count": 22,
   "metadata": {
    "ExecuteTime": {
     "end_time": "2019-12-08T05:23:58.598340Z",
     "start_time": "2019-12-08T05:23:58.593338Z"
    }
   },
   "outputs": [],
   "source": [
    "test['p9']=test['p9'].astype(int)\n",
    "test=test.drop(columns='p9_isnull')"
   ]
  },
  {
   "cell_type": "code",
   "execution_count": 23,
   "metadata": {
    "ExecuteTime": {
     "end_time": "2019-12-08T05:23:58.611342Z",
     "start_time": "2019-12-08T05:23:58.603341Z"
    }
   },
   "outputs": [],
   "source": [
    "p10=train['p10']\n",
    "train=train.drop(columns='p10')\n",
    "train=train.join(p9)\n",
    "train=train.join(p10)"
   ]
  },
  {
   "cell_type": "code",
   "execution_count": 24,
   "metadata": {
    "ExecuteTime": {
     "end_time": "2019-12-08T05:23:58.620344Z",
     "start_time": "2019-12-08T05:23:58.614343Z"
    }
   },
   "outputs": [
    {
     "data": {
      "text/plain": [
       "0"
      ]
     },
     "execution_count": 24,
     "metadata": {},
     "output_type": "execute_result"
    }
   ],
   "source": [
    "train['p9'].min()"
   ]
  },
  {
   "cell_type": "markdown",
   "metadata": {},
   "source": [
    "## A4"
   ]
  },
  {
   "cell_type": "code",
   "execution_count": 25,
   "metadata": {
    "ExecuteTime": {
     "end_time": "2019-12-08T05:23:58.626346Z",
     "start_time": "2019-12-08T05:23:58.622345Z"
    }
   },
   "outputs": [],
   "source": [
    "attribute='a4'\n",
    "df = train.join(attr[attribute])"
   ]
  },
  {
   "cell_type": "code",
   "execution_count": 26,
   "metadata": {
    "ExecuteTime": {
     "end_time": "2019-12-08T05:23:58.632347Z",
     "start_time": "2019-12-08T05:23:58.627346Z"
    }
   },
   "outputs": [],
   "source": [
    "best_hp={'max_depth': 5,\n",
    " 'learning_rate': 0.1,\n",
    " 'n_estimators': 571,\n",
    " 'verbosity': 1,\n",
    " 'objective': 'reg:squarederror',\n",
    " 'booster': 'dart',\n",
    " 'n_jobs': -1,\n",
    " 'gamma': 0,\n",
    " 'min_child_weight': 1,\n",
    " 'max_delta_step': 0,\n",
    " 'subsample': 1,\n",
    " 'colsample_bytree': 1,\n",
    " 'colsample_bylevel': 1,\n",
    " 'colsample_bynode': 1,\n",
    " 'reg_alpha': 6.345561548486771,\n",
    " 'reg_lambda': 2.808394786832976,\n",
    " 'scale_pos_weight': 1,\n",
    " 'base_score': 0.5,\n",
    " 'importance_type': 'gain',\n",
    " 'num_round': 223}\n"
   ]
  },
  {
   "cell_type": "code",
   "execution_count": 27,
   "metadata": {
    "ExecuteTime": {
     "end_time": "2019-12-08T05:25:15.432002Z",
     "start_time": "2019-12-08T05:23:58.633347Z"
    }
   },
   "outputs": [
    {
     "name": "stderr",
     "output_type": "stream",
     "text": [
      "d:\\software\\python3.6\\lib\\site-packages\\xgboost\\core.py:587: FutureWarning: Series.base is deprecated and will be removed in a future version\n",
      "  if getattr(data, 'base', None) is not None and \\\n"
     ]
    },
    {
     "data": {
      "text/plain": [
       "XGBRegressor(base_score=0.5, booster='dart', colsample_bylevel=1,\n",
       "             colsample_bynode=1, colsample_bytree=1, gamma=0,\n",
       "             importance_type='gain', learning_rate=0.1, max_delta_step=0,\n",
       "             max_depth=5, min_child_weight=1, missing=None, n_estimators=571,\n",
       "             n_jobs=1, nthread=None, num_round=223,\n",
       "             objective='reg:squarederror', random_state=0,\n",
       "             reg_alpha=6.345561548486771, reg_lambda=2.808394786832976,\n",
       "             scale_pos_weight=1, seed=None, silent=None, subsample=1,\n",
       "             verbosity=1)"
      ]
     },
     "execution_count": 27,
     "metadata": {},
     "output_type": "execute_result"
    }
   ],
   "source": [
    "x_trn,x_val,y_trn,y_val = train_test_split(train,attr.a4,test_size=1000)\n",
    "m = xgb.XGBRegressor().set_params(**best_hp)\n",
    "m.fit(x_trn,y_trn)"
   ]
  },
  {
   "cell_type": "code",
   "execution_count": 28,
   "metadata": {
    "ExecuteTime": {
     "end_time": "2019-12-08T05:25:15.443006Z",
     "start_time": "2019-12-08T05:25:15.433004Z"
    }
   },
   "outputs": [
    {
     "data": {
      "text/plain": [
       "['model/tp3_a4.m']"
      ]
     },
     "execution_count": 28,
     "metadata": {},
     "output_type": "execute_result"
    }
   ],
   "source": [
    "# 保存模型\n",
    "joblib.dump(m,f'model/tp3_{attribute}.m')"
   ]
  },
  {
   "cell_type": "markdown",
   "metadata": {},
   "source": [
    "## A5"
   ]
  },
  {
   "cell_type": "code",
   "execution_count": 29,
   "metadata": {
    "ExecuteTime": {
     "end_time": "2019-12-08T05:25:15.447007Z",
     "start_time": "2019-12-08T05:25:15.444006Z"
    }
   },
   "outputs": [],
   "source": [
    "attribute='a5'"
   ]
  },
  {
   "cell_type": "code",
   "execution_count": 30,
   "metadata": {
    "ExecuteTime": {
     "end_time": "2019-12-08T05:25:15.456010Z",
     "start_time": "2019-12-08T05:25:15.449008Z"
    }
   },
   "outputs": [],
   "source": [
    "df = train.join(attr[attribute])"
   ]
  },
  {
   "cell_type": "code",
   "execution_count": 31,
   "metadata": {
    "ExecuteTime": {
     "end_time": "2019-12-08T05:25:15.463011Z",
     "start_time": "2019-12-08T05:25:15.459011Z"
    }
   },
   "outputs": [],
   "source": [
    "best_hp={'max_depth': 4,\n",
    " 'learning_rate': 0.1,\n",
    " 'n_estimators': 749,\n",
    " 'verbosity': 1,\n",
    " 'objective': 'reg:squarederror',\n",
    " 'booster': 'dart',\n",
    " 'n_jobs': -1,\n",
    " 'gamma': 0,\n",
    " 'min_child_weight': 1,\n",
    " 'max_delta_step': 0,\n",
    " 'subsample': 1,\n",
    " 'colsample_bytree': 1,\n",
    " 'colsample_bylevel': 1,\n",
    " 'colsample_bynode': 1,\n",
    " 'reg_alpha': 7.819025434063891,\n",
    " 'reg_lambda': 0.005996946163704,\n",
    " 'scale_pos_weight': 1,\n",
    " 'base_score': 0.5,\n",
    " 'importance_type': 'gain',\n",
    " 'num_round': 934}"
   ]
  },
  {
   "cell_type": "code",
   "execution_count": 32,
   "metadata": {
    "ExecuteTime": {
     "end_time": "2019-12-08T05:27:05.034253Z",
     "start_time": "2019-12-08T05:25:15.465011Z"
    }
   },
   "outputs": [
    {
     "data": {
      "text/plain": [
       "XGBRegressor(base_score=0.5, booster='dart', colsample_bylevel=1,\n",
       "             colsample_bynode=1, colsample_bytree=1, gamma=0,\n",
       "             importance_type='gain', learning_rate=0.1, max_delta_step=0,\n",
       "             max_depth=4, min_child_weight=1, missing=None, n_estimators=749,\n",
       "             n_jobs=1, nthread=None, num_round=934,\n",
       "             objective='reg:squarederror', random_state=0,\n",
       "             reg_alpha=7.819025434063891, reg_lambda=0.005996946163704,\n",
       "             scale_pos_weight=1, seed=None, silent=None, subsample=1,\n",
       "             verbosity=1)"
      ]
     },
     "execution_count": 32,
     "metadata": {},
     "output_type": "execute_result"
    }
   ],
   "source": [
    "x_trn,x_val,y_trn,y_val = train_test_split(train,attr.a5,test_size=1000)\n",
    "m = xgb.XGBRegressor().set_params(**best_hp)\n",
    "m.fit(x_trn,y_trn)"
   ]
  },
  {
   "cell_type": "code",
   "execution_count": 33,
   "metadata": {
    "ExecuteTime": {
     "end_time": "2019-12-08T05:27:05.042255Z",
     "start_time": "2019-12-08T05:27:05.035254Z"
    }
   },
   "outputs": [
    {
     "data": {
      "text/plain": [
       "['model/tp3_a5.m']"
      ]
     },
     "execution_count": 33,
     "metadata": {},
     "output_type": "execute_result"
    }
   ],
   "source": [
    "# 保存模型\n",
    "joblib.dump(m,f'model/tp3_{attribute}.m')"
   ]
  },
  {
   "cell_type": "markdown",
   "metadata": {},
   "source": [
    "## A6 "
   ]
  },
  {
   "cell_type": "code",
   "execution_count": 34,
   "metadata": {
    "ExecuteTime": {
     "end_time": "2019-12-08T05:27:05.047256Z",
     "start_time": "2019-12-08T05:27:05.043255Z"
    }
   },
   "outputs": [],
   "source": [
    "attribute='a6'"
   ]
  },
  {
   "cell_type": "code",
   "execution_count": 35,
   "metadata": {
    "ExecuteTime": {
     "end_time": "2019-12-08T05:27:05.054259Z",
     "start_time": "2019-12-08T05:27:05.049257Z"
    }
   },
   "outputs": [],
   "source": [
    "df = train.join(attr[attribute])"
   ]
  },
  {
   "cell_type": "code",
   "execution_count": 36,
   "metadata": {
    "ExecuteTime": {
     "end_time": "2019-12-08T05:27:05.062261Z",
     "start_time": "2019-12-08T05:27:05.056259Z"
    }
   },
   "outputs": [],
   "source": [
    "best_hp={'max_depth': 4,\n",
    " 'learning_rate': 0.1,\n",
    " 'n_estimators': 731,\n",
    " 'verbosity': 1,\n",
    " 'objective': 'reg:squarederror',\n",
    " 'booster': 'dart',\n",
    " 'n_jobs': -1,\n",
    " 'gamma': 0,\n",
    " 'min_child_weight': 1,\n",
    " 'max_delta_step': 0,\n",
    " 'subsample': 1,\n",
    " 'colsample_bytree': 1,\n",
    " 'colsample_bylevel': 1,\n",
    " 'colsample_bynode': 1,\n",
    " 'reg_alpha': 9.299861941127418,\n",
    " 'reg_lambda': 8.762447153395918,\n",
    " 'scale_pos_weight': 1,\n",
    " 'base_score': 0.5,\n",
    " 'importance_type': 'gain',\n",
    " 'num_round': 917}"
   ]
  },
  {
   "cell_type": "code",
   "execution_count": 37,
   "metadata": {
    "ExecuteTime": {
     "end_time": "2019-12-08T05:28:43.431296Z",
     "start_time": "2019-12-08T05:27:05.064260Z"
    }
   },
   "outputs": [
    {
     "data": {
      "text/plain": [
       "XGBRegressor(base_score=0.5, booster='dart', colsample_bylevel=1,\n",
       "             colsample_bynode=1, colsample_bytree=1, gamma=0,\n",
       "             importance_type='gain', learning_rate=0.1, max_delta_step=0,\n",
       "             max_depth=4, min_child_weight=1, missing=None, n_estimators=731,\n",
       "             n_jobs=1, nthread=None, num_round=917,\n",
       "             objective='reg:squarederror', random_state=0,\n",
       "             reg_alpha=9.299861941127418, reg_lambda=8.762447153395918,\n",
       "             scale_pos_weight=1, seed=None, silent=None, subsample=1,\n",
       "             verbosity=1)"
      ]
     },
     "execution_count": 37,
     "metadata": {},
     "output_type": "execute_result"
    }
   ],
   "source": [
    "x_trn,x_val,y_trn,y_val = train_test_split(train,attr.a6,test_size=1000)\n",
    "m = xgb.XGBRegressor().set_params(**best_hp)\n",
    "m.fit(x_trn,y_trn)"
   ]
  },
  {
   "cell_type": "code",
   "execution_count": 38,
   "metadata": {
    "ExecuteTime": {
     "end_time": "2019-12-08T05:28:43.439811Z",
     "start_time": "2019-12-08T05:28:43.432298Z"
    },
    "scrolled": true
   },
   "outputs": [
    {
     "data": {
      "text/plain": [
       "['model/tp3_a6.m']"
      ]
     },
     "execution_count": 38,
     "metadata": {},
     "output_type": "execute_result"
    }
   ],
   "source": [
    "# 保存模型\n",
    "joblib.dump(m,f'model/tp3_{attribute}.m')"
   ]
  },
  {
   "cell_type": "markdown",
   "metadata": {},
   "source": [
    "# attribute stacking"
   ]
  },
  {
   "cell_type": "code",
   "execution_count": 39,
   "metadata": {
    "ExecuteTime": {
     "end_time": "2019-12-08T05:53:26.005534Z",
     "start_time": "2019-12-08T05:28:43.440812Z"
    }
   },
   "outputs": [
    {
     "name": "stdout",
     "output_type": "stream",
     "text": [
      "a4\n",
      "a5\n",
      "a6\n"
     ]
    }
   ],
   "source": [
    "# stacking 建立 attr 特征\n",
    "cv = KFold(6,shuffle=True,random_state=1)\n",
    "attrs = [f'a{i}' for i in range(4, 7)]\n",
    "trn_res = None\n",
    "tst_res = None\n",
    "for attribute in attrs:\n",
    "    print(attribute)\n",
    "    m = joblib.load(f'model/tp3_{attribute}.m')\n",
    "    trn_attr = None\n",
    "    tst_attr = None\n",
    "    for index, (trn_idx, val_idx) in enumerate(cv.split(train, attr[attribute])):\n",
    "        x_trn, x_val = train.iloc[trn_idx], train.iloc[val_idx]\n",
    "        y_trn, y_val = attr[attribute].iloc[trn_idx], attr[attribute].iloc[val_idx]\n",
    "        m.fit(x_trn, y_trn)\n",
    "        if trn_attr is None:\n",
    "            trn_attr = np.c_[val_idx, m.predict(x_val)]\n",
    "            tst_attr = m.predict(test)/cv.n_splits\n",
    "        else:\n",
    "            trn_attr = np.r_[trn_attr, np.c_[val_idx, m.predict(x_val)]]\n",
    "            tst_attr += m.predict(test)/cv.n_splits\n",
    "    trn_attr = pd.DataFrame(trn_attr).set_index(0)\n",
    "    trn_attr.index = trn_attr.index.astype('int')\n",
    "    trn_attr.columns = [attribute]\n",
    "    if trn_res is None:\n",
    "        trn_res = trn_attr\n",
    "        tst_res = tst_attr\n",
    "    else:\n",
    "        trn_res = trn_res.join(trn_attr)\n",
    "        tst_res = np.c_[tst_res,tst_attr]"
   ]
  },
  {
   "cell_type": "code",
   "execution_count": 40,
   "metadata": {
    "ExecuteTime": {
     "end_time": "2019-12-08T05:53:26.013536Z",
     "start_time": "2019-12-08T05:53:26.006534Z"
    }
   },
   "outputs": [],
   "source": [
    "train = train.join(trn_res)\n",
    "tst_res = pd.DataFrame(tst_res)\n",
    "tst_res.columns = [f'a{i}' for i in range(4,7)]\n",
    "test = test.join(tst_res)"
   ]
  },
  {
   "cell_type": "code",
   "execution_count": 41,
   "metadata": {
    "ExecuteTime": {
     "end_time": "2019-12-08T05:53:26.358614Z",
     "start_time": "2019-12-08T05:53:26.014537Z"
    }
   },
   "outputs": [],
   "source": [
    "# save data\n",
    "save_path = 'data/tp6.h5'\n",
    "train.to_hdf(save_path,'train')\n",
    "target.to_hdf(save_path,'target')\n",
    "test.to_hdf(save_path,'test')\n",
    "attr.to_hdf(save_path,'attr')\n",
    "group.to_hdf(save_path,'group')"
   ]
  },
  {
   "cell_type": "markdown",
   "metadata": {},
   "source": [
    "# predict Quality_label"
   ]
  },
  {
   "cell_type": "code",
   "execution_count": 42,
   "metadata": {
    "ExecuteTime": {
     "end_time": "2019-12-08T05:53:26.390621Z",
     "start_time": "2019-12-08T05:53:26.359614Z"
    }
   },
   "outputs": [],
   "source": [
    "# load data\n",
    "load_path = 'data/tp6.h5'\n",
    "train = pd.read_hdf(load_path,'train')\n",
    "target = pd.read_hdf(load_path,'target')\n",
    "test = pd.read_hdf(load_path,'test')\n",
    "attr = pd.read_hdf(load_path,'attr')\n",
    "group = pd.read_hdf(load_path,'group')"
   ]
  },
  {
   "cell_type": "markdown",
   "metadata": {},
   "source": [
    "## FE"
   ]
  },
  {
   "cell_type": "code",
   "execution_count": 43,
   "metadata": {
    "ExecuteTime": {
     "end_time": "2019-12-08T05:53:26.400624Z",
     "start_time": "2019-12-08T05:53:26.391622Z"
    }
   },
   "outputs": [],
   "source": [
    "def create_uid(df,cols,uid_name):\n",
    "    df[uid_name]=df[cols[0]].astype(str)\n",
    "    if len(cols)>1:\n",
    "        for c in cols[1:]:\n",
    "            df[uid_name]=df[uid_name]+df[c].astype(str)\n",
    "    return df\n",
    "\n",
    "def uid_aggregation(train,test,main_cols,uid,agg_method):\n",
    "    for main_col in main_cols:\n",
    "        new_col_name=uid+'_'+main_col+'_'+agg_method\n",
    "        train[new_col_name]=train.groupby([uid])[main_col].transform(agg_method)\n",
    "        test[new_col_name]=test.groupby([uid])[main_col].transform(agg_method)\n",
    "\n",
    "def frequency_encoding(train,test,cols):\n",
    "    for c in cols:\n",
    "        new_col_name=c+'_freq'\n",
    "        train[new_col_name] = train[c].map(train[c].value_counts())\n",
    "        test[new_col_name] = test[c].map(test[c].value_counts())\n",
    "\n",
    "def nunique_encoding(train,test,main_cols,col):\n",
    "    for main_col in main_cols:\n",
    "        new_col_name=main_col+'_'+col+'_nunique'\n",
    "        train[new_col_name]= train[col].map(train.groupby(col)[main_col].nunique())\n",
    "        test[new_col_name]= test[col].map(test.groupby(col)[main_col].nunique())"
   ]
  },
  {
   "cell_type": "code",
   "execution_count": 44,
   "metadata": {
    "ExecuteTime": {
     "end_time": "2019-12-08T05:53:26.787710Z",
     "start_time": "2019-12-08T05:53:26.401624Z"
    }
   },
   "outputs": [],
   "source": [
    "for c in range(4,7):\n",
    "    col='a'+str(c)\n",
    "    train[col]=train[col].round(3)\n",
    "    test[col]=test[col].round(3)\n",
    "\n",
    "# creat uids\n",
    "for key,value in {'uid1':['p5','p6'],'uid2':['p7','p9','p10'],'uid3':['p5','p6','p7','p8','p9'],'uid4':['p10', 'p9', 'p8', 'p7']}.items():\n",
    "    train=create_uid(train,cols=value,uid_name=key)\n",
    "    test=create_uid(test,cols=value,uid_name=key)\n",
    "    \n",
    "# apply uid_aggregation\n",
    "uid_aggregation(train,test,main_cols=['a4','a5'],uid='p7',agg_method='mean')\n",
    "uid_aggregation(train,test,main_cols=['a4','a5','a6'],uid='uid4',agg_method='mean')\n",
    "uid_aggregation(train,test,main_cols=['a4'],uid='uid4',agg_method='std')\n",
    "uid_aggregation(train,test,main_cols=['p5','p6'],uid='uid4',agg_method='sum')\n",
    "\n",
    "# apply frequency_encoding\n",
    "frequency_encoding(train,test,cols=['p7','p8','p10'])\n",
    "\n",
    "# apply unique_encoding\n",
    "nunique_encoding(train,test,main_cols=['p8','p9','p10'],col='p7')\n",
    "nunique_encoding(train,test,main_cols=['p9'],col='p8')\n",
    "nunique_encoding(train,test,main_cols=['uid2','uid3'],col='uid1')\n",
    "nunique_encoding(train,test,main_cols=['uid3'],col='uid2')\n",
    "\n",
    "# a4+a5+a6\n",
    "train['a4_plus_a5_plus_a6']=train['a4']+train['a5']+train['a6']\n",
    "test['a4_plus_a5_plus_a6']=test['a4']+test['a5']+test['a6']\n",
    "\n",
    "# majic_fe\n",
    "train['majic_fe']=train['uid4_p5_sum']*train['uid4_p6_sum']\n",
    "test['majic_fe']=test['uid4_p5_sum']*test['uid4_p6_sum']\n",
    "\n",
    "# drop_cols\n",
    "drop_cols=['uid1','uid2','uid3','uid4','uid4_p5_sum','uid4_p6_sum']\n",
    "train =train.drop(columns=drop_cols)\n",
    "test =test.drop(columns=drop_cols)"
   ]
  },
  {
   "cell_type": "code",
   "execution_count": 45,
   "metadata": {
    "ExecuteTime": {
     "end_time": "2019-12-08T05:53:26.792714Z",
     "start_time": "2019-12-08T05:53:26.788711Z"
    }
   },
   "outputs": [],
   "source": [
    "best_hp={'max_depth': 3,\n",
    " 'learning_rate': 0.1,\n",
    " 'n_estimators': 203,\n",
    " 'verbosity': 1,\n",
    " 'objective': 'multi:softmax',\n",
    " 'booster': 'dart',\n",
    " 'n_jobs': -1,\n",
    " 'gamma': 0,\n",
    " 'min_child_weight': 1,\n",
    " 'max_delta_step': 0,\n",
    " 'subsample': 1,\n",
    " 'colsample_bytree': 1,\n",
    " 'colsample_bylevel': 1,\n",
    " 'colsample_bynode': 1,\n",
    " 'reg_alpha': 6.736871781492226,\n",
    " 'reg_lambda': 0.073512560432491,\n",
    " 'scale_pos_weight': 1,\n",
    " 'base_score': 0.5,\n",
    " 'num_class': 4,\n",
    " 'num_round': 295}"
   ]
  },
  {
   "cell_type": "code",
   "execution_count": 46,
   "metadata": {
    "ExecuteTime": {
     "end_time": "2019-12-08T06:00:06.542078Z",
     "start_time": "2019-12-08T05:53:26.794713Z"
    }
   },
   "outputs": [
    {
     "name": "stdout",
     "output_type": "stream",
     "text": [
      "开始训练第1个模型：\n",
      "正在训练第1折\n",
      "正在训练第2折\n",
      "正在训练第3折\n",
      "正在训练第4折\n",
      "正在训练第5折\n",
      "logloss 1.0496960021686725\n",
      "ac 0.5480129890211844\n",
      "开始训练第2个模型：\n",
      "正在训练第1折\n",
      "正在训练第2折\n",
      "正在训练第3折\n",
      "正在训练第4折\n",
      "正在训练第5折\n",
      "logloss 1.0483681248563304\n",
      "ac 0.5494046698623782\n",
      "开始训练第3个模型：\n",
      "正在训练第1折\n",
      "正在训练第2折\n",
      "正在训练第3折\n",
      "正在训练第4折\n",
      "正在训练第5折\n",
      "logloss 1.0490204424009197\n",
      "ac 0.5524972939539199\n",
      "******************************\n",
      "mean_logloss 1.0472015277419293\n",
      "mean_ac 0.5512602443173032\n"
     ]
    }
   ],
   "source": [
    "from sklearn.metrics import log_loss, accuracy_score\n",
    "\n",
    "oof = np.zeros((train.shape[0], 4))\n",
    "prediction = np.zeros((test.shape[0], 4))\n",
    "seeds = [123456, 87654, 676767]\n",
    "num_model_seed = 3\n",
    "for model_seed in range(num_model_seed):\n",
    "    print(\"开始训练第%d个模型：\" % (model_seed + 1))\n",
    "    oof_cat = np.zeros((train.shape[0], 4))\n",
    "    prediction_cat = np.zeros((test.shape[0], 4))\n",
    "    skf = StratifiedKFold(n_splits=5, random_state=seeds[model_seed], shuffle=True)\n",
    "    for index, (train_index, test_index) in enumerate(skf.split(train, target)):\n",
    "        print(\"正在训练第%d折\" % (index + 1))\n",
    "        train_x, test_x, train_y, test_y = train.iloc[train_index], train.iloc[test_index], target.iloc[train_index], \\\n",
    "                                           target.iloc[test_index]\n",
    "        gc.collect()\n",
    "        m = xgb.XGBClassifier().set_params(**best_hp).set_params(n_jobs=-1,learning_rate=0.05)\n",
    "        m.fit(train_x, train_y) # xgb需要接受的是字典\n",
    "        oof_cat[test_index] += m.predict_proba(test_x)\n",
    "        prediction_cat += m.predict_proba(test) / skf.n_splits\n",
    "        gc.collect()\n",
    "    oof += oof_cat / num_model_seed\n",
    "    prediction += prediction_cat / num_model_seed\n",
    "    print('logloss', log_loss(pd.get_dummies(target).values, oof_cat))\n",
    "    print('ac', accuracy_score(target, np.argmax(oof_cat, axis=1)))\n",
    "print(\"*\" * 30)\n",
    "print('mean_logloss', log_loss(pd.get_dummies(target).values, oof))\n",
    "print('mean_ac', accuracy_score(target, np.argmax(oof, axis=1)))\n",
    "\n",
    "group_size=50\n",
    "mname='CCF_model_xgb'\n",
    "res_prob = pd.DataFrame(np.c_[group,prediction])\n",
    "res_prob.columns=['Group', 'Fail ratio', 'Pass ratio', 'Good ratio', 'Excellent ratio']\n",
    "res_prob = res_prob[['Group', 'Excellent ratio','Good ratio', 'Pass ratio','Fail ratio']]\n",
    "res_prob =(res_prob.groupby('Group').sum()/group_size).reset_index()\n",
    "res_prob.to_csv(f'submission/{mname}_prob.csv',index=False,encoding='utf-8')"
   ]
  },
  {
   "cell_type": "code",
   "execution_count": 50,
   "metadata": {
    "ExecuteTime": {
     "end_time": "2019-12-08T10:20:29.544754Z",
     "start_time": "2019-12-08T10:20:29.541753Z"
    }
   },
   "outputs": [
    {
     "data": {
      "text/plain": [
       "27"
      ]
     },
     "execution_count": 50,
     "metadata": {},
     "output_type": "execute_result"
    }
   ],
   "source": [
    "len(train.columns)"
   ]
  },
  {
   "cell_type": "code",
   "execution_count": 51,
   "metadata": {
    "ExecuteTime": {
     "end_time": "2019-12-08T10:20:39.668226Z",
     "start_time": "2019-12-08T10:20:39.665225Z"
    }
   },
   "outputs": [
    {
     "data": {
      "text/plain": [
       "Index(['p5', 'p6', 'p7', 'p8', 'p9', 'p10', 'a4', 'a5', 'a6', 'p7_a4_mean',\n",
       "       'p7_a5_mean', 'uid4_a4_mean', 'uid4_a5_mean', 'uid4_a6_mean',\n",
       "       'uid4_a4_std', 'p7_freq', 'p8_freq', 'p10_freq', 'p8_p7_nunique',\n",
       "       'p9_p7_nunique', 'p10_p7_nunique', 'p9_p8_nunique', 'uid2_uid1_nunique',\n",
       "       'uid3_uid1_nunique', 'uid3_uid2_nunique', 'a4_plus_a5_plus_a6',\n",
       "       'majic_fe'],\n",
       "      dtype='object')"
      ]
     },
     "execution_count": 51,
     "metadata": {},
     "output_type": "execute_result"
    }
   ],
   "source": [
    "train.columns"
   ]
  },
  {
   "cell_type": "code",
   "execution_count": null,
   "metadata": {},
   "outputs": [],
   "source": []
  }
 ],
 "metadata": {
  "kernelspec": {
   "display_name": "Python 3",
   "language": "python",
   "name": "python3"
  },
  "language_info": {
   "codemirror_mode": {
    "name": "ipython",
    "version": 3
   },
   "file_extension": ".py",
   "mimetype": "text/x-python",
   "name": "python",
   "nbconvert_exporter": "python",
   "pygments_lexer": "ipython3",
   "version": "3.6.7"
  },
  "toc": {
   "base_numbering": 1,
   "nav_menu": {},
   "number_sections": true,
   "sideBar": true,
   "skip_h1_title": false,
   "title_cell": "Table of Contents",
   "title_sidebar": "Contents",
   "toc_cell": false,
   "toc_position": {
    "height": "calc(100% - 180px)",
    "left": "10px",
    "top": "150px",
    "width": "413.976px"
   },
   "toc_section_display": true,
   "toc_window_display": false
  },
  "varInspector": {
   "cols": {
    "lenName": 16,
    "lenType": 16,
    "lenVar": 40
   },
   "kernels_config": {
    "python": {
     "delete_cmd_postfix": "",
     "delete_cmd_prefix": "del ",
     "library": "var_list.py",
     "varRefreshCmd": "print(var_dic_list())"
    },
    "r": {
     "delete_cmd_postfix": ") ",
     "delete_cmd_prefix": "rm(",
     "library": "var_list.r",
     "varRefreshCmd": "cat(var_dic_list()) "
    }
   },
   "types_to_exclude": [
    "module",
    "function",
    "builtin_function_or_method",
    "instance",
    "_Feature"
   ],
   "window_display": false
  }
 },
 "nbformat": 4,
 "nbformat_minor": 2
}
